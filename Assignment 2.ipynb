{
 "cells": [
  {
   "attachments": {},
   "cell_type": "markdown",
   "metadata": {},
   "source": [
    "### Assignment 2\n",
    "### 20i-0450"
   ]
  },
  {
   "cell_type": "code",
   "execution_count": 28,
   "metadata": {},
   "outputs": [],
   "source": [
    "import numpy as np"
   ]
  },
  {
   "cell_type": "code",
   "execution_count": 59,
   "metadata": {},
   "outputs": [
    {
     "name": "stdout",
     "output_type": "stream",
     "text": [
      "♖ ♔ ♗ ♔ ♕ ♗ ♔ ♖ \n",
      "♙ ♙ ♙ ♙ ♙ ♙ ♙ ♙ \n",
      "◼ ◻ ◼ ◻ ◼ ◻ ◼ ◻ \n",
      "◼ ◼ ◻ ◼ ◻ ◼ ◻ ◼ \n",
      "◼ ◻ ◼ ◻ ◼ ◻ ◼ ◻ \n",
      "◻ ◼ ◻ ◼ ◻ ◼ ◻ ◼ \n",
      "♟ ♟ ♟ ♟ ♟ ♟ ♟ ♟ \n",
      "♜ ♞ ♝ ♚ ♛ ♝ ♞ ♜ \n"
     ]
    }
   ],
   "source": [
    "#board when showing from white's perspective W_ represents the color and the character\n",
    "Wboard=[['WR',u'\\u2656'],['WN',u'\\u2654'],['WB',u'\\u2657'],['WK',u'\\u2654'],['WQ',u'\\u2655'],['WB',u'\\u2657'],['WN',u'\\u2654'],['WR',u'\\u2656'],\n",
    "       ['WP',u'\\u2659'],['WP',u'\\u2659'],['WP',u'\\u2659'],['WP',u'\\u2659'],['WP',u'\\u2659'],['WP',u'\\u2659'],['WP',u'\\u2659'],['WP',u'\\u2659'],\n",
    "       ['W',u'\\u25FC'],['B','\\u25FB'],['W','\\u25FC'],['B','\\u25FB'],['W','\\u25FC'],['B','\\u25FB'],['W','\\u25FC'],['B','\\u25FB'],\n",
    "       ['B','\\u25FC'],['W','\\u25FC'],['B','\\u25FB'],['W','\\u25FC'],['B','\\u25FB'],['W','\\u25FC'],['B','\\u25FB'],['W','\\u25FC'],\n",
    "       ['W',u'\\u25FC'],['B','\\u25FB'],['W','\\u25FC'],['B','\\u25FB'],['W','\\u25FC'],['B','\\u25FB'],['W','\\u25FC'],['B','\\u25FB'],\n",
    "       ['B','\\u25FB'],['W','\\u25FC'],['B','\\u25FB'],['W','\\u25FC'],['B','\\u25FB'],['W','\\u25FC'],['B','\\u25FB'],['W','\\u25FC'],\n",
    "       ['BP',u'\\u265F'],['BP',u'\\u265F'],['BP',u'\\u265F'],['BP',u'\\u265F'],['BP',u'\\u265F'],['BP',u'\\u265F'],['BP',u'\\u265F'],['BP',u'\\u265F'],\n",
    "       ['BR',u'\\u265C'],['BN',u'\\u265E'],['BB',u'\\u265D'],['BK',u'\\u265A'],['BQ',u'\\u265B'],['BB',u'\\u265D'],['BN',u'\\u265E'],['BR',u'\\u265C']\n",
    "       ]\n",
    "\n",
    "#displaying the board\n",
    "def displayboard(board):\n",
    "    for i in range(8):\n",
    "        for j in range(8):\n",
    "            element = board[i*8+j]\n",
    "            print(element[1], end=' ')\n",
    "        print()\n",
    "\n",
    "chrs = {\n",
    "    'b_pawn': u'\\u265F',\n",
    "    'b_rook': u'\\u265C',\n",
    "    'b_knight': u'\\u265E',\n",
    "    'b_bishop': u'\\u265D',\n",
    "    'b_king': u'\\u265A',\n",
    "    'b_queen': u'\\u265B',\n",
    "    'w_pawn': u'\\u2659',\n",
    "    'w_rook': u'\\u2656',\n",
    "    'w_knight': u'\\u2658',\n",
    "    'w_bishop': u'\\u2657',\n",
    "    'w_king': u'\\u2654',\n",
    "    'w_queen': u'\\u2655'\n",
    "}\n",
    "displayboard(Wboard)"
   ]
  }
 ],
 "metadata": {
  "kernelspec": {
   "display_name": "base",
   "language": "python",
   "name": "python3"
  },
  "language_info": {
   "codemirror_mode": {
    "name": "ipython",
    "version": 3
   },
   "file_extension": ".py",
   "mimetype": "text/x-python",
   "name": "python",
   "nbconvert_exporter": "python",
   "pygments_lexer": "ipython3",
   "version": "3.9.16"
  },
  "orig_nbformat": 4
 },
 "nbformat": 4,
 "nbformat_minor": 2
}
