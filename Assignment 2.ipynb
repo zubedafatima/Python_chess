{
 "cells": [
  {
   "attachments": {},
   "cell_type": "markdown",
   "metadata": {},
   "source": [
    "### Assignment 2\n",
    "### 20i-0450"
   ]
  },
  {
   "cell_type": "code",
   "execution_count": 28,
   "metadata": {},
   "outputs": [],
   "source": [
    "import numpy as np"
   ]
  },
  {
   "cell_type": "code",
   "execution_count": 55,
   "metadata": {},
   "outputs": [
    {
     "name": "stdout",
     "output_type": "stream",
     "text": [
      "♖  ♔  ♗  ♔  ♕  ♗  ♔  ♖  \n",
      "♙  ♙  ♙  ♙  ♙  ♙  ♙  ♙  \n",
      " ◼  ◻  ◼  ◻  ◼  ◻  ◼  ◻ \n",
      " ◻  ◼  ◻  ◼  ◻  ◼  ◻  ◼ \n",
      " ◼  ◻  ◼  ◻  ◼  ◻  ◼  ◻ \n",
      " ◻  ◼  ◻  ◼  ◻  ◼  ◻  ◼ \n",
      "♟  ♟  ♟  ♟  ♟  ♟  ♟  ♟  \n",
      "♜  ♞  ♝  ♚  ♛  ♝  ♞  ♜  \n",
      "[('WR', -1), ('WN', -1), ('WB', -1), ('WK', -1), ('WQ', -1), ('WB', -1), ('WN', -1), ('WR', -1), ('WP', 2), ('WP', 2), ('WP', 2), ('WP', 2), ('WP', 2), ('WP', 2), ('WP', 2), ('WP', 2)]\n",
      "[('BR', -1), ('BN', -1), ('BB', -1), ('BK', -1), ('BQ', -1), ('BB', -1), ('BN', -1), ('BR', -1), ('BP', 2), ('BP', 2), ('BP', 2), ('BP', 2), ('BP', 2), ('BP', 2), ('BP', 2), ('BP', 2)]\n"
     ]
    }
   ],
   "source": [
    "#board with the character and the color of that char\n",
    "board=[['WR',u'\\u2656'],['WN',u'\\u2654'],['WB',u'\\u2657'],['WK',u'\\u2654'],['WQ',u'\\u2655'],['WB',u'\\u2657'],['WN',u'\\u2654'],['WR',u'\\u2656'],\n",
    "       ['WP',u'\\u2659'],['WP',u'\\u2659'],['WP',u'\\u2659'],['WP',u'\\u2659'],['WP',u'\\u2659'],['WP',u'\\u2659'],['WP',u'\\u2659'],['WP',u'\\u2659'],\n",
    "       ['W',u'\\u25FC'],['B','\\u25FB'],['W', '\\u25FC'],['B','\\u25FB'],['W','\\u25FC'],['B','\\u25FB'],['W','\\u25FC'],['B','\\u25FB'],\n",
    "       ['B','\\u25FB'],['W','\\u25FC'],['B','\\u25FB'],['W','\\u25FC'],['B','\\u25FB'],['W','\\u25FC'],['B','\\u25FB'],['W','\\u25FC'],\n",
    "       ['W',u'\\u25FC'],['B','\\u25FB'],['W','\\u25FC'],['B','\\u25FB'],['W','\\u25FC'],['B','\\u25FB'],['W','\\u25FC'],['B','\\u25FB'],\n",
    "       ['B','\\u25FB'],['W','\\u25FC'],['B','\\u25FB'],['W','\\u25FC'],['B','\\u25FB'],['W','\\u25FC'],['B','\\u25FB'],['W','\\u25FC'],\n",
    "       ['BP',u'\\u265F'],['BP',u'\\u265F'],['BP',u'\\u265F'],['BP',u'\\u265F'],['BP',u'\\u265F'],['BP',u'\\u265F'],['BP',u'\\u265F'],['BP',u'\\u265F'],\n",
    "       ['BR',u'\\u265C'],['BN',u'\\u265E'],['BB',u'\\u265D'],['BK',u'\\u265A'],['BQ',u'\\u265B'],['BB',u'\\u265D'],['BN',u'\\u265E'],['BR',u'\\u265C']\n",
    "       ]\n",
    "#list to keep track of moves for each piece of the color \n",
    "white_moves=[-1]*16\n",
    "black_moves=[-1]*16\n",
    "\n",
    "#giving each list their innitial values where innitially only pawns have available moves (each of two)\n",
    "def innitialise_moves(white,black,board):\n",
    "    k=0\n",
    "    for i in range(2):\n",
    "        for j in range(8):\n",
    "            element=board[i*8+j]\n",
    "            if(element[0]=='WP'):\n",
    "                white[k]=(element[0],2)\n",
    "            else:\n",
    "                white[k]=(element[0],-1)\n",
    "            k+=1\n",
    "    k=0\n",
    "    for i in range(7,5,-1):            #getting the last two rows of the board starting from end\n",
    "        for j in range(8):\n",
    "            element=board[i*8+j]\n",
    "            if(element[0]=='BP'):\n",
    "                black[k]=(element[0],2)\n",
    "            else:\n",
    "                black[k]=(element[0],-1)\n",
    "            k+=1\n",
    "\n",
    "def update_moves(white,black,board):\n",
    "    #for each piece call its function to count the possible moves it can take and then store it here in the list\n",
    "    return \n",
    "\n",
    "\n",
    "#displaying the board\n",
    "def displayboard(board):\n",
    "    for i in range(8):\n",
    "        for j in range(8):\n",
    "            element = board[i*8+j]\n",
    "            if(i==2 or i==3 or i==4 or i==5):           #if condition to display the mid blocks evenly\n",
    "                print(end=' ')\n",
    "                print( element[1],end=' ')\n",
    "            else:\n",
    "                print( element[1],end='  ')\n",
    "        print()\n",
    "\n",
    "chrs = {\n",
    "    'b_pawn': u'\\u265F',\n",
    "    'b_rook': u'\\u265C',\n",
    "    'b_knight': u'\\u265E',\n",
    "    'b_bishop': u'\\u265D',\n",
    "    'b_king': u'\\u265A',\n",
    "    'b_queen': u'\\u265B',\n",
    "    'w_pawn': u'\\u2659',\n",
    "    'w_rook': u'\\u2656',\n",
    "    'w_knight': u'\\u2658',\n",
    "    'w_bishop': u'\\u2657',\n",
    "    'w_king': u'\\u2654',\n",
    "    'w_queen': u'\\u2655'\n",
    "}\n",
    "displayboard(board)\n",
    "innitialise_moves(white_moves,black_moves,board)\n",
    "print(white_moves)\n",
    "print(black_moves)"
   ]
  }
 ],
 "metadata": {
  "kernelspec": {
   "display_name": "base",
   "language": "python",
   "name": "python3"
  },
  "language_info": {
   "codemirror_mode": {
    "name": "ipython",
    "version": 3
   },
   "file_extension": ".py",
   "mimetype": "text/x-python",
   "name": "python",
   "nbconvert_exporter": "python",
   "pygments_lexer": "ipython3",
   "version": "3.9.16"
  },
  "orig_nbformat": 4
 },
 "nbformat": 4,
 "nbformat_minor": 2
}
